{
 "cells": [
  {
   "cell_type": "markdown",
   "id": "34461a86-298a-40d5-bef7-1b0c10e85701",
   "metadata": {},
   "source": [
    "# 1. Importing libraries"
   ]
  },
  {
   "cell_type": "code",
   "execution_count": 17,
   "id": "be54b0df-c4fb-4793-82e0-475e51a03eee",
   "metadata": {},
   "outputs": [],
   "source": [
    "import pandas as pd\n",
    "import numpy as np\n",
    "import matplotlib.pyplot as plt\n",
    "import seaborn as sns\n",
    "import tensorflow as tf\n",
    "import keras\n",
    "import os\n",
    "import cv2"
   ]
  },
  {
   "cell_type": "code",
   "execution_count": 2,
   "id": "c73e1ffd-04d3-476c-9a7f-f455195fd635",
   "metadata": {},
   "outputs": [],
   "source": [
    "tf.random.set_seed(0) # setting a seed ensures our model is reproductible for the same data"
   ]
  },
  {
   "cell_type": "markdown",
   "id": "5ceaefda-7e9b-4962-83ce-56125ba6e202",
   "metadata": {},
   "source": [
    "# 2. Creating the dataset\n",
    "Dataset Download URL: https://www.kaggle.com/datasets/pranavraikokte/covid19-image-dataset\n",
    "\n",
    "*put all the images of the trainig and testing datasets together in a single folder for each, named \"covid\", \"viral_pneumonia\" and \"normal\". This will fix some of the dataset errors and will facilitate the work.\n",
    "\n",
    "We are going to use de OpenCV library the help us in that task.\n",
    "\n",
    "The dataset we have consists of X-ray images of 3 categories of data:\n",
    "- 'normal'\n",
    "- 'covid'\n",
    "- 'viral_pneumonia'\n",
    "\n",
    "The images are divided in 3 folders, in which we are going to iterate to read the data and append it to a dataset.\n",
    "\n",
    "The images are made of individual pixels with 3 values (channels) each, that can have a range of values between 0 and 255."
   ]
  },
  {
   "cell_type": "code",
   "execution_count": 3,
   "id": "16005c64-4a5a-4707-9cfd-9aea70ecefc7",
   "metadata": {},
   "outputs": [],
   "source": [
    "categories = ['covid','normal','viral_pneumonia'] # naming the categories\n",
    "img_size = 128 # the image size we will use in our model\n",
    "img_data = [] # initializing the variable tha we will append the data\n",
    "\n",
    "def create_dataset(): # this function will create the dataset\n",
    "    for category in categories: # iterarion through each category name we defined\n",
    "        path = os.path.join('data', category) # the path of each categorie folder\n",
    "        class_num = categories.index(category) # the index of te category (0,1,2) for each category.\n",
    "        for img in os.listdir(path): # iterating each image in the folder\n",
    "            img_array = cv2.imread(os.path.join(path,img), cv2.IMREAD_GRAYSCALE) # reading the image into a numpy ndarray, also turning it to grayscale to simplify the model\n",
    "            new_array = cv2.resize(img_array, (img_size,img_size)) # resizing\n",
    "            img_data.append([new_array,class_num]) # appending to our dataset variable\n",
    "create_dataset()"
   ]
  },
  {
   "cell_type": "markdown",
   "id": "22de62d6-54e4-427f-81b2-60c0dde78b3f",
   "metadata": {},
   "source": [
    "# 3. Data Preprocessing\n",
    "Our dataset is in the appending order, and that can lead to problems in training. To fix that, we just need to shuffle the data in a random manner."
   ]
  },
  {
   "cell_type": "code",
   "execution_count": 4,
   "id": "d419dc78-bcb0-43ac-92e6-c49b5677e1ca",
   "metadata": {},
   "outputs": [],
   "source": [
    "import random\n",
    "random.shuffle(img_data)"
   ]
  },
  {
   "cell_type": "markdown",
   "id": "c101d7c2-16e3-4fc5-95e7-dde220da667b",
   "metadata": {},
   "source": [
    "## 3.1 Splitting our data into features and labels"
   ]
  },
  {
   "cell_type": "code",
   "execution_count": 5,
   "id": "6c5f5f0e-a41a-4c57-9441-725ec1e5e68b",
   "metadata": {
    "tags": []
   },
   "outputs": [],
   "source": [
    "X = [] # features\n",
    "y = [] # labels"
   ]
  },
  {
   "cell_type": "code",
   "execution_count": 6,
   "id": "29040fd2-208f-4c04-ad66-494ca7c03c77",
   "metadata": {},
   "outputs": [],
   "source": [
    "for features, label in img_data:\n",
    "    X.append(features)\n",
    "    y.append(label)\n",
    "    \n",
    "X = np.array(X).reshape(-1,img_size,img_size,1)/255 #reshaping and normalizing our data"
   ]
  },
  {
   "cell_type": "code",
   "execution_count": 7,
   "id": "71744f50-1d53-4f00-8469-00e37c80815e",
   "metadata": {},
   "outputs": [],
   "source": [
    "y = np.array(y)"
   ]
  },
  {
   "cell_type": "code",
   "execution_count": 8,
   "id": "f505c741",
   "metadata": {},
   "outputs": [
    {
     "name": "stdout",
     "output_type": "stream",
     "text": [
      "\n",
      "X shape: (312, 128, 128, 1)\n",
      "y shape\"(312,)\n",
      "\n"
     ]
    }
   ],
   "source": [
    "print(f'''\n",
    "X shape: {X.shape}\n",
    "y shape:{y.shape}\n",
    "''')"
   ]
  },
  {
   "cell_type": "markdown",
   "id": "9dc8dbbb-03fd-4aa1-a854-97da5b3f472e",
   "metadata": {},
   "source": [
    "## 3.2 Splitting into training, test and validation"
   ]
  },
  {
   "cell_type": "code",
   "execution_count": 9,
   "id": "5efbdd61-19e9-4453-ab13-f45b0235290c",
   "metadata": {},
   "outputs": [],
   "source": [
    "from sklearn.model_selection import train_test_split as tts\n",
    "\n",
    "X_train0, X_test, y_train0, y_test = tts(X,y,test_size=0.20, random_state=0)\n",
    "X_train, X_val, y_train, y_val = tts(X,y,test_size=0.1, random_state=0)"
   ]
  },
  {
   "cell_type": "code",
   "execution_count": 10,
   "id": "d4c446c4-389b-4117-93a0-fbafac5c7c75",
   "metadata": {},
   "outputs": [
    {
     "data": {
      "text/plain": [
       "(280, 128, 128, 1)"
      ]
     },
     "execution_count": 10,
     "metadata": {},
     "output_type": "execute_result"
    }
   ],
   "source": [
    "X_train.shape"
   ]
  },
  {
   "cell_type": "markdown",
   "id": "6346a594-a7c1-451a-b019-26ec4f8fbd03",
   "metadata": {},
   "source": [
    "# 4. Model Building and Training\n",
    "We are going to use a MLP (multilayer perceptron) to train our data.\n",
    "\n",
    "We are also going to use a hyperparameter tuning technique using the Keras Tuner library. This is going to help us find better hyperparameters for our model with less work overall."
   ]
  },
  {
   "cell_type": "code",
   "execution_count": 11,
   "id": "5ec3644f-67c4-4a5c-a37a-639130ba1baa",
   "metadata": {},
   "outputs": [],
   "source": [
    "import tensorflow as tf\n",
    "from tensorflow.keras.models import Sequential\n",
    "from tensorflow.keras.layers import Dense, Dropout, Activation, Flatten\n",
    "from keras_tuner.tuners import BayesianOptimization\n",
    "from keras_tuner.engine.hyperparameters import HyperParameters"
   ]
  },
  {
   "cell_type": "markdown",
   "id": "250b5405-2b04-422a-a0bb-605da6d756a5",
   "metadata": {},
   "source": [
    "## 4.1 Creating our model using Keras Tuner\n",
    "This is very similar to a conventional model building.\n",
    "\n",
    "Step 1 - Build a function with you model inside it.\n",
    "\n",
    "Step 2 - Use the hp argument along with your desired hyperparameter space to define the hyperparameters during the model creation.\n",
    "\n",
    "Step 3 - Initialize the tuner specifying the objective to select the best model, along with \"max_trial\" to set the number of different models to try.\n",
    "\n",
    "Step 4 - Start the search and get the best model as an object.\n",
    "\n",
    "*in this example we are going to use the BayesianOptimization tuner"
   ]
  },
  {
   "cell_type": "code",
   "execution_count": 12,
   "id": "9de1f711-2bbb-4016-b15e-277302c013c5",
   "metadata": {
    "tags": []
   },
   "outputs": [
    {
     "name": "stdout",
     "output_type": "stream",
     "text": [
      "Trial 16 Complete [00h 00m 19s]\n",
      "val_accuracy: 1.0\n",
      "\n",
      "Best val_accuracy So Far: 1.0\n",
      "Total elapsed time: 00h 06m 18s\n",
      "INFO:tensorflow:Oracle triggered exit\n"
     ]
    }
   ],
   "source": [
    "# step 1\n",
    "def build_model(hp):\n",
    "    model = Sequential()\n",
    "    model.add(Flatten(input_shape=X.shape[1:]))\n",
    "    \n",
    "    # step 2\n",
    "    hp_activation = hp.Choice(name = 'activation', values = ['relu', 'tanh'])\n",
    "    hp_layer_1 = hp.Int(name = \"layer_1\", min_value = 16, max_value = 128, step = 16) # here you set the minimum and maximum value of neurons in this layer, along with the step per iteration in the tuner.\n",
    "    hp_layer_2 = hp.Int(name = \"layer_2\", min_value = 16, max_value = 128, step = 16)\n",
    "    hp_layer_3 = hp.Int(name = \"layer_3\", min_value = 16, max_value = 128, step = 16)\n",
    "    hp_dropout_1 = hp.Choice(name = \"dropout_1\", values = [0.0, 0.1, 0.2, 0.3]) # here the tuner will choose between a set o given values\n",
    "    hp_dropout_2 = hp.Choice(name = \"dropout_2\", values = [0.0, 0.1, 0.2, 0.3])\n",
    "    hp_learning_rate = hp.Choice(name = \"learning_rate\", values = [1e-2, 1e-3, 1e-4]) # same thing for the learning rates\n",
    "    \n",
    "    #use the arguments above in the layers below\n",
    "    \n",
    "    model.add(Dense(hp_layer_1, activation = hp_activation))\n",
    "    model.add(Dropout(rate=hp_dropout_1))\n",
    "    model.add(Dense(hp_layer_2, activation = hp_activation))\n",
    "    model.add(Dropout(rate=hp_dropout_2))\n",
    "    model.add(Dense(hp_layer_3, activation = hp_activation))\n",
    "    model.add(Dropout(rate=hp_dropout_2))\n",
    "    \n",
    "    model.add(Dense(3, activation = \"softmax\"))\n",
    "    \n",
    "    model.compile(loss='sparse_categorical_crossentropy',\n",
    "                  optimizer= tf.keras.optimizers.Adam(learning_rate = hp_learning_rate),\n",
    "                  metrics=['accuracy'])\n",
    "    return model\n",
    "\n",
    "# step 3\n",
    "tuner = BayesianOptimization(build_model,\n",
    "                    objective = \"val_accuracy\",\n",
    "                    max_trials = 16,\n",
    "                    overwrite=True\n",
    "                    )\n",
    "\n",
    "# step 4\n",
    "tuner.search(x = X_train,\n",
    "             y = y_train,\n",
    "             epochs = 64,\n",
    "             batch_size = 8,\n",
    "             validation_data = (X_val, y_val))"
   ]
  },
  {
   "cell_type": "markdown",
   "id": "6583e538-4b17-40da-bf8e-f8d4c266f801",
   "metadata": {},
   "source": [
    "# 5. Final Model Training and Results\n",
    "To see the results, we use the tuner.get_best_hyperparameters and save it to a variable.\n",
    "\n",
    "Then we build our model using these best hyperparameters that we found and fit to the test data."
   ]
  },
  {
   "cell_type": "code",
   "execution_count": 13,
   "id": "2f23ab42-9695-4bd0-8ad1-d09453529960",
   "metadata": {},
   "outputs": [],
   "source": [
    "best_hps = tuner.get_best_hyperparameters(num_trials=1)[0]\n",
    "model = tuner.hypermodel.build(best_hps)\n",
    "history = model.fit(X_train, y_train, epochs=128, validation_data = (X_test,y_test), verbose=0)\n",
    "score = model.evaluate(X_test, y_test, verbose=0)"
   ]
  },
  {
   "cell_type": "code",
   "execution_count": 14,
   "id": "9e6d0fea",
   "metadata": {},
   "outputs": [
    {
     "name": "stdout",
     "output_type": "stream",
     "text": [
      "Test loss: 0.017198028042912483\n",
      "Test accuracy: 1.0\n"
     ]
    }
   ],
   "source": [
    "print(f\"Test loss: {score[0]}\")\n",
    "print(f\"Test accuracy: {score[1]}\")"
   ]
  },
  {
   "cell_type": "code",
   "execution_count": 15,
   "id": "e31d0504-fbdc-453a-8727-3a6e58d4bd8c",
   "metadata": {},
   "outputs": [
    {
     "name": "stdout",
     "output_type": "stream",
     "text": [
      "2/2 [==============================] - 0s 6ms/step\n"
     ]
    }
   ],
   "source": [
    "y_prob = model.predict(X_test)\n",
    "y_pred = np.argmax(y_prob, axis=-1)"
   ]
  },
  {
   "cell_type": "code",
   "execution_count": 18,
   "id": "b511d60c-bf52-4f43-bd9a-773066191302",
   "metadata": {},
   "outputs": [
    {
     "data": {
      "text/plain": [
       "<AxesSubplot:>"
      ]
     },
     "execution_count": 18,
     "metadata": {},
     "output_type": "execute_result"
    },
    {
     "data": {
      "image/png": "[encoded data removed]",
      "text/plain": [
       "<Figure size 640x480 with 2 Axes>"
      ]
     },
     "metadata": {},
     "output_type": "display_data"
    }
   ],
   "source": [
    "from sklearn.metrics import confusion_matrix as cm\n",
    "matrix = sns.heatmap(cm(y_test, y_pred), cmap='Blues', annot=True)\n",
    "matrix"
   ]
  },
  {
   "cell_type": "code",
   "execution_count": 19,
   "id": "e14e0ef6-1580-4257-b2b3-bc9b661231b0",
   "metadata": {},
   "outputs": [
    {
     "data": {
      "image/png": "[encoded data removed]",
      "text/plain": [
       "<Figure size 640x480 with 1 Axes>"
      ]
     },
     "metadata": {},
     "output_type": "display_data"
    }
   ],
   "source": [
    "plt.plot(history.history['accuracy'])\n",
    "plt.plot(history.history['val_accuracy'])\n",
    "plt.plot(history.history['loss'])\n",
    "plt.plot(history.history['val_loss'])\n",
    "plt.title('model 1 accuracy')\n",
    "plt.ylabel('accuracy')\n",
    "plt.xlabel('epoch')\n",
    "plt.legend(['accuracy', 'val_accuracy','loss','val_loss'], loc='upper right')\n",
    "plt.show()"
   ]
  },
  {
   "cell_type": "markdown",
   "id": "ef2c79cb-65e3-4926-8488-84a1a19b140b",
   "metadata": {},
   "source": [
    "We can see that our model coverged really fast, probably due to the small batch size."
   ]
  },
  {
   "cell_type": "markdown",
   "id": "60aca572-ae69-43ab-b6b7-20236e1c3377",
   "metadata": {},
   "source": [
    "# 6. Saving the Trained Model\n",
    "To save it, we will just serialize to a pickle object and put it in our notebook directory."
   ]
  },
  {
   "cell_type": "code",
   "execution_count": 21,
   "id": "7983b968-0ee0-46d2-8844-38e07296844c",
   "metadata": {},
   "outputs": [
    {
     "name": "stdout",
     "output_type": "stream",
     "text": [
      "INFO:tensorflow:Assets written to: ram://d6d60db7-a730-4428-acb4-b977df8a6db5/assets\n"
     ]
    }
   ],
   "source": [
    "import pickle\n",
    "model_dump = pickle.dump(model, open(os.path.join('trained_mlp_model.pkl'), 'wb'))"
   ]
  }
 ],
 "metadata": {
  "kernelspec": {
   "display_name": "Python 3 (ipykernel)",
   "language": "python",
   "name": "python3"
  },
  "language_info": {
   "codemirror_mode": {
    "name": "ipython",
    "version": 3
   },
   "file_extension": ".py",
   "mimetype": "text/x-python",
   "name": "python",
   "nbconvert_exporter": "python",
   "pygments_lexer": "ipython3",
   "version": "3.9.13"
  }
 },
 "nbformat": 4,
 "nbformat_minor": 5
}
