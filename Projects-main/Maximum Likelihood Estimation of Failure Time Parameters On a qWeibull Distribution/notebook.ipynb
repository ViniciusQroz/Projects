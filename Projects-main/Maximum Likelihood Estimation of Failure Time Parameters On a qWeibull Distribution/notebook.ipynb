{
 "cells": [
  {
   "cell_type": "markdown",
   "id": "a966c744",
   "metadata": {},
   "source": [
    "#### Importando pacotes"
   ]
  },
  {
   "cell_type": "code",
   "execution_count": 1,
   "id": "2e1c038f",
   "metadata": {},
   "outputs": [],
   "source": [
    "from math import log, exp\n",
    "import numpy as np\n",
    "import random\n",
    "import matplotlib.pyplot as plt"
   ]
  },
  {
   "cell_type": "markdown",
   "id": "ed0ee976",
   "metadata": {},
   "source": [
    "#### Bases de dados"
   ]
  },
  {
   "cell_type": "code",
   "execution_count": 2,
   "id": "366ca79a",
   "metadata": {},
   "outputs": [],
   "source": [
    "yanez1 = [3456, 1584, 236, 516, 1820, 452, 432, 1264, 3072, 384, 2448, 32, 360, 998, 656, 180, 244, 1528, 44, 3064, 324, 1528, 348, 336]\n",
    "yanez2 = [860, 1608, 1134, 2703, 645, 95, 1278, 605, 344, 1054, 680, 405, 367, 2758, 355, 1084, 855, 280, 490, 945, 105, 127, 61, 326, 300]\n",
    "yanez2_censurados = [300]\n",
    "bus510 = [778,1821,361,1158,43729,1238,16719,39973,1274,95,531,28382,5938,4412,798,1112,3771,1866,13360,5644,4146,3351,2412,1067,1034,9670,2087,731,9971,961,2633,2033,6275,1433,6599,7361,26298,2971,2151,3518,984,4554,288,8878,13908,22483,18255,84,7576,2478,503,3242,664,1217,6938,300]\n",
    "wang2 = [27.51, 340.01, 27, 1.12, 11.11, 25.74, 81.68, 341.4, 9.28, 88.17, 86.34, 318.44, 323.12, 169.63, 76.43,471.23, 32.4, 86.43, 83.18, 196.27, 70.91, 432.42, 87.75, 81.01, 220.05, 91.7, 82.17, 92.98]\n",
    "machine3sc = [16553, 638, 27321, 12306, 16794, 361, 7053, 32811,46043, 74982, 2489, 23154, 26305, 8086, 1427,53756, 108, 16, 19873, 17728, 69437, 19673, 13813,18029, 2899, 33965, 3095, 22967, 51293, 103155,65887, 9089, 273, 3160, 7379, 1932, 24091, 25953,40392, 657, 7313, 7681, 4896, 878, 27831, 1308,37603, 830, 4305, 26901, 506, 1155, 6835, 13077,2219, 12223, 74, 15766, 19464, 2564, 3377, 6743,49, 4460, 624, 7944, 1855, 37265, 13417, 18926,53737, 7853, 4747, 9266, 7482, 21793, 848]"
   ]
  },
  {
   "cell_type": "markdown",
   "id": "48a92ac3",
   "metadata": {},
   "source": [
    "#### Equações 1"
   ]
  },
  {
   "cell_type": "code",
   "execution_count": 3,
   "id": "3fe35c1c",
   "metadata": {},
   "outputs": [],
   "source": [
    "# 0 < b < 10 & 0 < q < 1\n",
    "#nas funções: a, b, q são os parâmetros. tt = 0 significa que é terminada em falha, e tt = 1 significa que é terminada em tempo.\n",
    "\n",
    "def difa(dados, b, q, tt = 0): #Equação log-verosimilhança derivada em relação a \"q\" com alfa isolado\n",
    "    T = dados[-1]\n",
    "    t1 = dados[0]\n",
    "    n = len(dados)\n",
    "    a = ((sum(list(map(lambda i: (dados[i] + q*sum(dados[:i-1]))**b -(q*sum(dados[:i-1]))**b, np.arange(1, len(dados)).tolist()))) + t1**b + tt * ((T + q*sum(dados))**b + (q*sum(dados))**b))/n)**(1/b)\n",
    "    return a\n",
    "\n",
    "def difb(dados, a, b, q, tt = 0): #Equação log-verosimilhança derivada em relação a \"b\" para ser igualada a 0\n",
    "    T = dados[-1]\n",
    "    t1 = dados[0]\n",
    "    n = len(dados)\n",
    "    beta = (n/b + log(t1) - n*log(a) - ((t1/a)**b)*log(t1/a)) + sum(list(map(lambda i: log(dados[i] + q*sum(dados[:i])) - (((dados[i] + q*sum(dados[:i]))/a)**b) * log((dados[i] + q*sum(dados[:i]))/a) + (((q*sum(dados[:i]))/a)**b)*log(q*sum(dados[:i])/a), np.arange(1,len(dados)).tolist()))) + tt*( 0 - (((T + q*sum(dados))/a)**b) * log((T + q*sum(dados))/a) + ((q*sum(dados)/a)**b) * log(q*sum(dados)/a))\n",
    "    return beta\n",
    "\n",
    "def difq(dados, a, b, q, tt=0): #Equação log-verosimilhança derivada em relação a \"q\" para ser igualada a 0\n",
    "    T = dados[-1]\n",
    "    t1 = dados[0]\n",
    "    n = len(dados)\n",
    "    que = (b-1)*sum(list(map(lambda i: (sum(dados[:i]))/(dados[i] + q*sum(dados[:i])) , np.arange(1,len(dados)).tolist()))) + (b*q**(b-1)/(a**b))*sum(list(map(lambda i: sum(dados[:i])**b, np.arange(1,len(dados)).tolist()))) - (b/(a**b))*sum(list(map(lambda i: ((dados[i] + q*sum(dados[:i]))**(b-1)) * sum(dados[:i]), np.arange(1,len(dados)).tolist()))) + tt*( ((b/q)*(q*sum(dados)/a)**b) - b*(((T + q*sum(dados))/a)**b) * (sum(dados)/(T + q*sum(dados))))\n",
    "    return que\n",
    "\n",
    "def CDF_PRG(dados, a, b, q):\n",
    "    prob = []\n",
    "    for i in range(0,len(dados)):\n",
    "        F = 1 - exp(((q*sum(dados[:-1]))/a)**b - ((dados[i] + q*sum(dados[:-1]))/a)**b)\n",
    "        prob.append(F)\n",
    "    return prob"
   ]
  },
  {
   "cell_type": "code",
   "execution_count": 4,
   "id": "60165dc1",
   "metadata": {},
   "outputs": [
    {
     "data": {
      "text/plain": [
       "'alfa = 104.07923978330344, beta = 0.8218662763220422, q = 0.0654008937757586'"
      ]
     },
     "execution_count": 4,
     "metadata": {},
     "output_type": "execute_result"
    }
   ],
   "source": [
    "def montecarlo(dados, N, tt = 0, tolerancia = 0.1): #Simulação de montecarlo, onde N é o número de simulações desejadas\n",
    "    tol = tolerancia # Tolerância para qual o programa irá parar e retornar os valores de alfa, beta e q para a iteração atual\n",
    "    for i in range(0, N): # Loop da simulação\n",
    "        b = random.uniform(0.001, 10) # Gerador de números aleatórios para beta entre 0 e 10 (distribuido uniformemente)\n",
    "        q = random.uniform(0.001, 1) # Gerador de números aleatórios para beta entre 0 e 1 (distribuído uniformemente)\n",
    "        a = difa(dados, b, q)\n",
    "        if a > 0:       \n",
    "            result_b = difb(dados, a, b, q, tt)\n",
    "            result_q = difq(dados, a, b, q, tt)\n",
    "            if 0 < result_b < tol and 0 < result_q < tol: # Caso a iteração de b e q deem menor que 0.1 como resultado para as equações derivadas, retorna os parâmetros\n",
    "                return f\"alfa = {a}, beta = {b}, q = {q}\"\n",
    "        else:\n",
    "            continue\n",
    "    return \"Deu ruim!\" # Caso a simulação não encontre valores menores que a tolerância para o número de iterações desejado\n",
    "\n",
    "montecarlo(wang2, 100000, tolerancia=0.3)"
   ]
  },
  {
   "cell_type": "code",
   "execution_count": 5,
   "id": "2134877e",
   "metadata": {
    "scrolled": false
   },
   "outputs": [
    {
     "name": "stdout",
     "output_type": "stream",
     "text": [
      "111.19272804659477\n"
     ]
    }
   ],
   "source": [
    "# Simulação Monte Carlo para tempos de falha\n",
    "\n",
    "def simulacao(a, b, q, T):\n",
    "    failures = []\n",
    "    u_list = []\n",
    "    if len(failures) == 0: #gerando o primeiro valor\n",
    "        u = random.uniform(0,1)\n",
    "        x = a * ( - log(1-u) )**(1/b)\n",
    "        failures.append(x)\n",
    "        u_list.append(u)\n",
    "        if sum(failures) > T: #\n",
    "            return [failures, u_list]\n",
    "    while sum(failures) < T:\n",
    "        u = random.uniform(0,1)\n",
    "        x = a*((sum(failures[:-1])/a)**b - log(1-u))**(1/b) - sum(failures[:-1]) #equaçao do slide da aula 6 para achar x\n",
    "        failures.append(x)\n",
    "        u_list.append(u)\n",
    "    return [failures, u_list]\n",
    "\n",
    "z = sum(wang2)\n",
    "sim = simulacao(111.76281138389334, 0.9320177386067728, 1, z) # aqui chama a função\n",
    "\n",
    "x = sim[0]\n",
    "y = sim[1]\n",
    "p = CDF_PRG(sim[0], 111.76281138389334, 0.9320177386067728, 1)\n",
    "\n",
    "# n = sum(machine3sc)/(np.mean(x))\n",
    "# print(n)\n",
    "\n",
    "# print(len(x))\n",
    "# print(len(y))\n",
    "\n",
    "# plt.scatter(x,y, color='orange')\n",
    "# plt.xlabel('Tempo entre falhas')\n",
    "# plt.ylabel('Probabilidade')\n",
    "# plt.title('PDF com falhas')\n",
    "# plt.show\n",
    "\n",
    "def erro_padrao(o, m):\n",
    "    erro = 0\n",
    "    for i in range(0, len(o)):\n",
    "        erro += abs(o[i] - m[i])\n",
    "    return erro/len(o)\n",
    "\n",
    "erro = erro_padrao(x,p)\n",
    "print(erro)"
   ]
  },
  {
   "cell_type": "code",
   "execution_count": 6,
   "id": "433d83c9",
   "metadata": {},
   "outputs": [
    {
     "name": "stdout",
     "output_type": "stream",
     "text": [
      "111.19272804659477\n"
     ]
    }
   ],
   "source": [
    "def erro_padrao(o, m):\n",
    "    erro = 0\n",
    "    for i in range(0, len(o)):\n",
    "        erro += abs(o[i] - m[i])\n",
    "    return erro/len(o)\n",
    "\n",
    "erro = erro_padrao(x,p)\n",
    "print(erro)"
   ]
  },
  {
   "cell_type": "code",
   "execution_count": 200,
   "id": "87553d73",
   "metadata": {},
   "outputs": [
    {
     "data": {
      "text/plain": [
       "'alfa = 111.76281138389334, beta = 0.9320177386067728, q = 1'"
      ]
     },
     "execution_count": 200,
     "metadata": {},
     "output_type": "execute_result"
    }
   ],
   "source": [
    "def montecarlo(dados, N, tt = 0, tolerancia = 0.1): #Simulação de montecarlo, onde N é o número de simulações desejadas\n",
    "    tol = tolerancia # Tolerância para qual o programa irá parar e retornar os valores de alfa, beta e q para a iteração atual\n",
    "    for i in range(0, N): # Loop da simulação\n",
    "        b = random.uniform(0.001, 10) # Gerador de números aleatórios para beta entre 0 e 10 (distribuido uniformemente)\n",
    "        q = 1 # Gerador de números aleatórios para beta entre 0 e 1 (distribuído uniformemente)\n",
    "        a = difa(dados, b, q)\n",
    "        if a > 0:       \n",
    "            result_b = difb(dados, a, b, q, tt)\n",
    "            result_q = difq(dados, a, b, q, tt)\n",
    "            if 0 < result_b < tol: # Caso a iteração de b e q deem menor que 0.1 como resultado para as equações derivadas, retorna os parâmetros\n",
    "                return f\"alfa = {a}, beta = {b}, q = {q}\"\n",
    "        else:\n",
    "            continue\n",
    "    return \"Deu ruim!\" # Caso a simulação não encontre valores menores que a tolerância para o número de iterações desejado\n",
    "\n",
    "montecarlo(wang2, 100000, tolerancia=0.1)\n",
    "\n",
    "\n",
    "bus510 = 5335\n",
    "machine3sc = 6439\n",
    "wang2 = 221"
   ]
  }
 ],
 "metadata": {
  "kernelspec": {
   "display_name": "Python 3 (ipykernel)",
   "language": "python",
   "name": "python3"
  },
  "language_info": {
   "codemirror_mode": {
    "name": "ipython",
    "version": 3
   },
   "file_extension": ".py",
   "mimetype": "text/x-python",
   "name": "python",
   "nbconvert_exporter": "python",
   "pygments_lexer": "ipython3",
   "version": "3.9.12"
  }
 },
 "nbformat": 4,
 "nbformat_minor": 5
}
